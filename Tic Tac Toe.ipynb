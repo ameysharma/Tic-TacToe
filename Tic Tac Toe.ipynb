{
 "cells": [
  {
   "cell_type": "markdown",
   "metadata": {},
   "source": [
    "# Tic Tac Toe Game"
   ]
  },
  {
   "cell_type": "markdown",
   "metadata": {},
   "source": [
    "Declaring some important variables that will come handy"
   ]
  },
  {
   "cell_type": "code",
   "execution_count": 46,
   "metadata": {
    "collapsed": false
   },
   "outputs": [],
   "source": [
    "from IPython.display import clear_output #Using python Notebook for clearing output\n",
    "#Global Variables\n",
    "board =[' ']*10 #Creating List of 10 variables which can store 'X' and 'O'\n",
    "state = True #Setting the state of the game to proceed.\n",
    "announce=''"
   ]
  },
  {
   "cell_type": "markdown",
   "metadata": {
    "collapsed": true
   },
   "source": [
    "Now reseting board in case it have some variables entered during the last game."
   ]
  },
  {
   "cell_type": "code",
   "execution_count": 47,
   "metadata": {
    "collapsed": true
   },
   "outputs": [],
   "source": [
    "def reset():\n",
    "    global board,state #importing global variables in function\n",
    "    board =[' ']*10\n",
    "    state =True\n",
    "     "
   ]
  },
  {
   "cell_type": "markdown",
   "metadata": {},
   "source": [
    "Creating a function to display the board"
   ]
  },
  {
   "cell_type": "code",
   "execution_count": 48,
   "metadata": {
    "collapsed": true
   },
   "outputs": [],
   "source": [
    "def display():\n",
    "    clear_output #clearing the end output of the game\n",
    "    print (\"  \"+board[1]+\" |\"+board[2]+\" | \"+board[3]+\" \")\n",
    "    print (\"------------\")\n",
    "    print (\"  \"+board[4]+\" |\"+board[5]+\" | \"+board[6]+\" \")\n",
    "    print (\"------------\")\n",
    "    print (\"  \"+board[7]+\" |\"+board[8]+\" | \"+board[9]+\" \")\n"
   ]
  },
  {
   "cell_type": "markdown",
   "metadata": {},
   "source": [
    "Creating the a function to check winning combination"
   ]
  },
  {
   "cell_type": "code",
   "execution_count": 49,
   "metadata": {
    "collapsed": false
   },
   "outputs": [],
   "source": [
    "def win(board,player):\n",
    "    if (board[7]  ==  board[8] ==  board[9] == player) or \\\n",
    "        (board[4] ==  board[5] ==  board[6] == player) or \\\n",
    "        (board[1] ==  board[2] ==  board[3] == player) or \\\n",
    "        (board[7] ==  board[4] ==  board[1] == player) or \\\n",
    "        (board[8] ==  board[5] ==  board[2] == player) or \\\n",
    "        (board[9] ==  board[6] ==  board[3] == player) or \\\n",
    "        (board[1] ==  board[5] ==  board[9] == player) or \\\n",
    "        (board[3] ==  board[5] ==  board[7] == player):\n",
    "        return True\n",
    "    else:\n",
    "        return False\n"
   ]
  },
  {
   "cell_type": "markdown",
   "metadata": {},
   "source": [
    "Creating A function to Check The Tie Case"
   ]
  },
  {
   "cell_type": "code",
   "execution_count": 50,
   "metadata": {
    "collapsed": true
   },
   "outputs": [],
   "source": [
    "def check_tie(board):\n",
    "    if \" \"in board[1:]:\n",
    "        return False\n",
    "    else:\n",
    "        return True"
   ]
  },
  {
   "cell_type": "markdown",
   "metadata": {},
   "source": [
    "Creating A Function To Enter Player Values"
   ]
  },
  {
   "cell_type": "code",
   "execution_count": 63,
   "metadata": {
    "collapsed": true
   },
   "outputs": [],
   "source": [
    "def pinput(symbol):\n",
    "    global board\n",
    "    req ='Select where to place your:'+symbol\n",
    "    while True:\n",
    "        try:\n",
    "            choice =int(input(req))\n",
    "        except ValueError:\n",
    "            print(\"Sorry Please input a number between 1 to 9\")\n",
    "            continue\n",
    "        if board[choice] == \" \":\n",
    "            board[choice]= symbol\n",
    "            break\n",
    "        else:\n",
    "            print(\"Space isn't empty\")\n",
    "            continue"
   ]
  },
  {
   "cell_type": "markdown",
   "metadata": {},
   "source": [
    "Creating a function that takes player choice and then returns a game state"
   ]
  },
  {
   "cell_type": "code",
   "execution_count": 57,
   "metadata": {
    "collapsed": true
   },
   "outputs": [],
   "source": [
    "def choice(symbol):\n",
    "    global board,state,announce\n",
    "    announce=''\n",
    "    symbol=str(symbol)\n",
    "    pinput(symbol)\n",
    "    \n",
    "    if win(board,symbol):\n",
    "        clear_output()\n",
    "        display()\n",
    "        announce = symbol+\"Wins.Congragulations\"\n",
    "        state= False\n",
    "    clear_output()\n",
    "    display()\n",
    "    #tie Check\n",
    "    if check_tie(board):\n",
    "        announce =\"Tie\"\n",
    "        state= False\n",
    "    return state,announce\n",
    "    "
   ]
  },
  {
   "cell_type": "markdown",
   "metadata": {},
   "source": [
    "Finally Putting all fuctions together to create a game"
   ]
  },
  {
   "cell_type": "code",
   "execution_count": 1,
   "metadata": {
    "collapsed": false
   },
   "outputs": [],
   "source": [
    "def play():\n",
    "    reset()\n",
    "    global announce\n",
    "    \n",
    " \n",
    "    X='X'\n",
    "    O='O'\n",
    "    while True:        \n",
    "        clear_output()\n",
    "        display()\n",
    "        \n",
    "        # Player X turn\n",
    "        state,announce= choice(X)\n",
    "        print (announce)\n",
    "        if game_state == False:\n",
    "            break\n",
    "            \n",
    "        # Player O turn\n",
    "        state,announce=choice(O)\n",
    "        print (announce)\n",
    "        if game_state == False:\n",
    "            break\n",
    "    \n",
    "    # Ask player for a rematch\n",
    "    rematch = input('Would you like to play again? y/n')\n",
    "    if rematch == 'y':\n",
    "        play_game()\n",
    "    else:\n",
    "        print (\"Thanks for playing\")\n",
    "    "
   ]
  },
  {
   "cell_type": "code",
   "execution_count": null,
   "metadata": {
    "collapsed": true
   },
   "outputs": [],
   "source": []
  }
 ],
 "metadata": {
  "kernelspec": {
   "display_name": "Python 3",
   "language": "python",
   "name": "python3"
  },
  "language_info": {
   "codemirror_mode": {
    "name": "ipython",
    "version": 3
   },
   "file_extension": ".py",
   "mimetype": "text/x-python",
   "name": "python",
   "nbconvert_exporter": "python",
   "pygments_lexer": "ipython3",
   "version": "3.6.0"
  }
 },
 "nbformat": 4,
 "nbformat_minor": 2
}
